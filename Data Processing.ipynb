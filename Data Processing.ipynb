{
 "cells": [
  {
   "cell_type": "code",
   "execution_count": 7,
   "id": "6844e3ef",
   "metadata": {},
   "outputs": [],
   "source": [
    "import pandas as pd\n",
    "import numpy as np\n",
    "from statsmodels.stats.outliers_influence import variance_inflation_factor\n"
   ]
  },
  {
   "cell_type": "code",
   "execution_count": 31,
   "id": "e49cc885",
   "metadata": {},
   "outputs": [],
   "source": [
    "df = pd.read_csv('https://raw.githubusercontent.com/sanjeev49/Older-People-activity-prediction/main/raw_dio.csv')"
   ]
  },
  {
   "cell_type": "code",
   "execution_count": 32,
   "id": "ae5ecc12",
   "metadata": {},
   "outputs": [
    {
     "name": "stdout",
     "output_type": "stream",
     "text": [
      "<class 'pandas.core.frame.DataFrame'>\n",
      "RangeIndex: 75128 entries, 0 to 75127\n",
      "Data columns (total 9 columns):\n",
      " #   Column          Non-Null Count  Dtype  \n",
      "---  ------          --------------  -----  \n",
      " 0   Time            75128 non-null  float64\n",
      " 1   Acc. Front      75128 non-null  float64\n",
      " 2   Acc. vert       75128 non-null  float64\n",
      " 3   Acc. Lat        75128 non-null  float64\n",
      " 4   id              75128 non-null  int64  \n",
      " 5   RSSI            75128 non-null  float64\n",
      " 6   Phase           75128 non-null  float64\n",
      " 7   Freq            75128 non-null  float64\n",
      " 8   Activity Label  75128 non-null  int64  \n",
      "dtypes: float64(7), int64(2)\n",
      "memory usage: 5.2 MB\n"
     ]
    }
   ],
   "source": [
    "df.info()"
   ]
  },
  {
   "cell_type": "code",
   "execution_count": 5,
   "id": "7bc9298e",
   "metadata": {},
   "outputs": [],
   "source": [
    "x= df.iloc[:, :-1]\n",
    "y = df.iloc[:, -1]\n"
   ]
  },
  {
   "cell_type": "code",
   "execution_count": 8,
   "id": "3e77f4d5",
   "metadata": {},
   "outputs": [],
   "source": [
    "arr = np.array(x)\n"
   ]
  },
  {
   "cell_type": "code",
   "execution_count": 14,
   "id": "4285a538",
   "metadata": {},
   "outputs": [
    {
     "data": {
      "text/plain": [
       "array([ 0.0000e+00,  2.7203e-01,  1.0082e+00, -8.2102e-02,  1.0000e+00,\n",
       "       -6.3500e+01,  2.4252e+00,  9.2425e+02])"
      ]
     },
     "execution_count": 14,
     "metadata": {},
     "output_type": "execute_result"
    }
   ],
   "source": [
    "arr[0]"
   ]
  },
  {
   "cell_type": "code",
   "execution_count": 19,
   "id": "bf456f0a",
   "metadata": {},
   "outputs": [],
   "source": [
    "vif2 = pd.DataFrame()\n",
    "vif2['vif'] = [variance_inflation_factor(arr, i) for i in range(arr.shape[1])]"
   ]
  },
  {
   "cell_type": "code",
   "execution_count": 22,
   "id": "b35e9e11",
   "metadata": {},
   "outputs": [
    {
     "data": {
      "text/html": [
       "<div>\n",
       "<style scoped>\n",
       "    .dataframe tbody tr th:only-of-type {\n",
       "        vertical-align: middle;\n",
       "    }\n",
       "\n",
       "    .dataframe tbody tr th {\n",
       "        vertical-align: top;\n",
       "    }\n",
       "\n",
       "    .dataframe thead th {\n",
       "        text-align: right;\n",
       "    }\n",
       "</style>\n",
       "<table border=\"1\" class=\"dataframe\">\n",
       "  <thead>\n",
       "    <tr style=\"text-align: right;\">\n",
       "      <th></th>\n",
       "      <th>vif</th>\n",
       "      <th>columns</th>\n",
       "    </tr>\n",
       "  </thead>\n",
       "  <tbody>\n",
       "    <tr>\n",
       "      <th>0</th>\n",
       "      <td>2.909534</td>\n",
       "      <td>Time</td>\n",
       "    </tr>\n",
       "    <tr>\n",
       "      <th>1</th>\n",
       "      <td>18.055771</td>\n",
       "      <td>Acc. Front</td>\n",
       "    </tr>\n",
       "    <tr>\n",
       "      <th>2</th>\n",
       "      <td>6.799554</td>\n",
       "      <td>Acc. vert</td>\n",
       "    </tr>\n",
       "    <tr>\n",
       "      <th>3</th>\n",
       "      <td>2.631783</td>\n",
       "      <td>Acc. Lat</td>\n",
       "    </tr>\n",
       "    <tr>\n",
       "      <th>4</th>\n",
       "      <td>6.570744</td>\n",
       "      <td>id</td>\n",
       "    </tr>\n",
       "    <tr>\n",
       "      <th>5</th>\n",
       "      <td>139.008119</td>\n",
       "      <td>RSSI</td>\n",
       "    </tr>\n",
       "    <tr>\n",
       "      <th>6</th>\n",
       "      <td>3.111670</td>\n",
       "      <td>Phase</td>\n",
       "    </tr>\n",
       "    <tr>\n",
       "      <th>7</th>\n",
       "      <td>165.823909</td>\n",
       "      <td>Freq</td>\n",
       "    </tr>\n",
       "  </tbody>\n",
       "</table>\n",
       "</div>"
      ],
      "text/plain": [
       "          vif     columns\n",
       "0    2.909534        Time\n",
       "1   18.055771  Acc. Front\n",
       "2    6.799554   Acc. vert\n",
       "3    2.631783    Acc. Lat\n",
       "4    6.570744          id\n",
       "5  139.008119        RSSI\n",
       "6    3.111670       Phase\n",
       "7  165.823909        Freq"
      ]
     },
     "execution_count": 22,
     "metadata": {},
     "output_type": "execute_result"
    }
   ],
   "source": [
    "vif2['columns'] = x.columns\n",
    "vif2"
   ]
  },
  {
   "cell_type": "code",
   "execution_count": 23,
   "id": "b6dc8b15",
   "metadata": {},
   "outputs": [],
   "source": [
    "# Here are lot of outliers like in 'Acc. Front', 'RSSI', 'Freq'"
   ]
  },
  {
   "cell_type": "code",
   "execution_count": 24,
   "id": "22eacff6",
   "metadata": {},
   "outputs": [],
   "source": [
    "# We treat  the outliers by IQR"
   ]
  },
  {
   "cell_type": "code",
   "execution_count": 25,
   "id": "ffdbfbaa",
   "metadata": {},
   "outputs": [],
   "source": [
    "def remove_outliers(df):\n",
    "    Q1 = np.percentile(df, 25, interpolation='midpoint')\n",
    "    Q3 = np.percentile(df,75, interpolation='midpoint')\n",
    "    IQR = Q3-Q1\n",
    "    upper=  np.where(df>=(Q3+1.5*IQR))\n",
    "    lower = np.where(df<=(Q3-1.5*IQR))\n",
    "    df.drop(upper[0],inplace=True,axis=0)\n",
    "    df.drop(lower[0],inplace=True,axis=0)\n",
    "    return df\n",
    "Time = remove_outliers(df.Time)\n",
    "front = remove_outliers(df['Acc. Front'])\n",
    "vert = remove_outliers(df['Acc. vert'])\n",
    "lat = remove_outliers(df['Acc. Lat'])\n",
    "Rssi = remove_outliers(df.RSSI)\n",
    "phase= remove_outliers(df.Phase)\n",
    "Freq = remove_outliers(df.Freq)\n",
    "    \n",
    "        "
   ]
  },
  {
   "cell_type": "code",
   "execution_count": 26,
   "id": "c9d3f7bf",
   "metadata": {},
   "outputs": [],
   "source": [
    "df_2 = pd.DataFrame()\n",
    "time = Time.loc[:52000]\n",
    "front = front.iloc[:52000]\n",
    "vert = vert.iloc[:52000]\n",
    "lat = lat.iloc[:52000]\n",
    "Rssi = Rssi.iloc[:52000]\n",
    "phase = phase.iloc[:52000]\n",
    "freq = Freq.iloc[:52000]"
   ]
  },
  {
   "cell_type": "code",
   "execution_count": 27,
   "id": "3290b2b0",
   "metadata": {},
   "outputs": [],
   "source": [
    "df_2['Time'] = time\n",
    "df_2['Acc. Front'] = front\n",
    "df_2['Acc. vert'] = vert\n",
    "df_2['Acc. Lat'] = lat\n",
    "df_2['id'] = df.id\n",
    "df_2['RSSI']  = Rssi\n",
    "df_2['Phase'] = phase\n",
    "df_2['Freq']  = Freq"
   ]
  },
  {
   "cell_type": "code",
   "execution_count": 28,
   "id": "7ef72ce6",
   "metadata": {},
   "outputs": [
    {
     "name": "stdout",
     "output_type": "stream",
     "text": [
      "<class 'pandas.core.frame.DataFrame'>\n",
      "Int64Index: 52001 entries, 0 to 52000\n",
      "Data columns (total 8 columns):\n",
      " #   Column      Non-Null Count  Dtype  \n",
      "---  ------      --------------  -----  \n",
      " 0   Time        52001 non-null  float64\n",
      " 1   Acc. Front  51271 non-null  float64\n",
      " 2   Acc. vert   51951 non-null  float64\n",
      " 3   Acc. Lat    49855 non-null  float64\n",
      " 4   id          52001 non-null  int64  \n",
      " 5   RSSI        45988 non-null  float64\n",
      " 6   Phase       52000 non-null  float64\n",
      " 7   Freq        52001 non-null  float64\n",
      "dtypes: float64(7), int64(1)\n",
      "memory usage: 3.6 MB\n"
     ]
    }
   ],
   "source": [
    "df_2.info()"
   ]
  },
  {
   "cell_type": "code",
   "execution_count": 29,
   "id": "1278be40",
   "metadata": {},
   "outputs": [],
   "source": [
    "# The Problem is after treating outliers the row counts of each column has been different. Prviously it was"
   ]
  },
  {
   "cell_type": "code",
   "execution_count": 30,
   "id": "00174a08",
   "metadata": {},
   "outputs": [
    {
     "name": "stdout",
     "output_type": "stream",
     "text": [
      "<class 'pandas.core.frame.DataFrame'>\n",
      "RangeIndex: 75128 entries, 0 to 75127\n",
      "Data columns (total 9 columns):\n",
      " #   Column          Non-Null Count  Dtype  \n",
      "---  ------          --------------  -----  \n",
      " 0   Time            75128 non-null  float64\n",
      " 1   Acc. Front      75128 non-null  float64\n",
      " 2   Acc. vert       75128 non-null  float64\n",
      " 3   Acc. Lat        75128 non-null  float64\n",
      " 4   id              75128 non-null  int64  \n",
      " 5   RSSI            75128 non-null  float64\n",
      " 6   Phase           75128 non-null  float64\n",
      " 7   Freq            75128 non-null  float64\n",
      " 8   Activity Label  75128 non-null  int64  \n",
      "dtypes: float64(7), int64(2)\n",
      "memory usage: 5.2 MB\n"
     ]
    }
   ],
   "source": [
    "df.info()"
   ]
  },
  {
   "cell_type": "markdown",
   "id": "f9f57e44",
   "metadata": {},
   "source": [
    "# As  you can see previously there are 75128 rows in each column . after removing outliers it is changed .\n",
    "# How can i resolve this issue?"
   ]
  },
  {
   "cell_type": "code",
   "execution_count": null,
   "id": "98c7e98d",
   "metadata": {},
   "outputs": [],
   "source": []
  }
 ],
 "metadata": {
  "kernelspec": {
   "display_name": "Python 3 (ipykernel)",
   "language": "python",
   "name": "python3"
  },
  "language_info": {
   "codemirror_mode": {
    "name": "ipython",
    "version": 3
   },
   "file_extension": ".py",
   "mimetype": "text/x-python",
   "name": "python",
   "nbconvert_exporter": "python",
   "pygments_lexer": "ipython3",
   "version": "3.8.5"
  }
 },
 "nbformat": 4,
 "nbformat_minor": 5
}
